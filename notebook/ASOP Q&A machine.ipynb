{
 "cells": [
  {
   "cell_type": "markdown",
   "id": "57226901",
   "metadata": {},
   "source": [
    "# ASOP Q&A Machine"
   ]
  },
  {
   "cell_type": "markdown",
   "id": "7f7c8d88",
   "metadata": {},
   "source": [
    "## 1. Setup"
   ]
  },
  {
   "cell_type": "code",
   "execution_count": 1,
   "id": "7b5e226b",
   "metadata": {},
   "outputs": [],
   "source": [
    "#!pip install --upgrade --quiet  langchain langchain-community langchainhub langchain-openai chromadb bs4"
   ]
  },
  {
   "cell_type": "code",
   "execution_count": 2,
   "id": "89232ab4",
   "metadata": {},
   "outputs": [],
   "source": [
    "#!pip install --upgrade --quiet pypdf2\n",
    "#This is used for PDF parsing"
   ]
  },
  {
   "cell_type": "code",
   "execution_count": 3,
   "id": "06fc759e",
   "metadata": {},
   "outputs": [],
   "source": [
    "from dotenv import load_dotenv\n",
    "import os\n",
    "\n",
    "load_dotenv()  # This loads the variables from .env\n",
    "\n",
    "os.environ[\"OPENAI_API_KEY\"] = os.getenv('OPENAI_API_KEY') # OpenAI\n",
    "os.environ[\"LANGCHAIN_TRACING_V2\"] = \"true\"\n",
    "os.environ[\"LANGCHAIN_API_KEY\"] = os.getenv('LANGCHAIN_API_KEY')"
   ]
  },
  {
   "cell_type": "code",
   "execution_count": 4,
   "id": "13c27cc3",
   "metadata": {},
   "outputs": [],
   "source": [
    "import bs4\n",
    "from langchain import hub\n",
    "from langchain.document_loaders import PyPDFLoader\n",
    "from langchain.text_splitter import RecursiveCharacterTextSplitter\n",
    "from langchain_community.document_loaders import WebBaseLoader\n",
    "from langchain_community.vectorstores import Chroma\n",
    "from langchain_core.output_parsers import StrOutputParser\n",
    "from langchain_core.runnables import RunnablePassthrough\n",
    "from langchain_core.runnables import RunnableParallel # for RAG with source\n",
    "from langchain_openai import ChatOpenAI, OpenAIEmbeddings\n",
    "from IPython.display import display, Markdown, Latex\n",
    "import glob\n",
    "import chromadb"
   ]
  },
  {
   "cell_type": "markdown",
   "id": "b04673e4",
   "metadata": {},
   "source": [
    "## 2. Load pdf files and convert to vector DB"
   ]
  },
  {
   "cell_type": "code",
   "execution_count": 5,
   "id": "3c3b91d1",
   "metadata": {},
   "outputs": [
    {
     "data": {
      "text/plain": [
       "'\\ndef load_pdfs_from_folder(folder_path):\\n    pdf_files = glob.glob(f\"{folder_path}/*.pdf\")\\n    docs = []\\n    for pdf_file in pdf_files:\\n        loader = PyPDFLoader(pdf_file)\\n        docs.extend(loader.load())\\n    return docs\\n\\n# Example folder path\\nfolder_path = \\'ASOP\\'\\ndocs = load_pdfs_from_folder(folder_path)\\n\\n# Text spliter and put in vectorstore\\ntext_splitter = RecursiveCharacterTextSplitter(\\n    chunk_size=1000, \\n    chunk_overlap=200,\\n    length_function=len,)\\nsplits = text_splitter.split_documents(docs)\\n\\nvectorstore = Chroma.from_documents(documents=splits, embedding=OpenAIEmbeddings(), persist_directory=\"./chroma_db\")\\n'"
      ]
     },
     "execution_count": 5,
     "metadata": {},
     "output_type": "execute_result"
    }
   ],
   "source": [
    "# Define a function to load and extract text from PDFs in a folder\n",
    "'''\n",
    "def load_pdfs_from_folder(folder_path):\n",
    "    pdf_files = glob.glob(f\"{folder_path}/*.pdf\")\n",
    "    docs = []\n",
    "    for pdf_file in pdf_files:\n",
    "        loader = PyPDFLoader(pdf_file)\n",
    "        docs.extend(loader.load())\n",
    "    return docs\n",
    "\n",
    "# Example folder path\n",
    "folder_path = 'ASOP'\n",
    "docs = load_pdfs_from_folder(folder_path)\n",
    "\n",
    "# Text spliter and put in vectorstore\n",
    "text_splitter = RecursiveCharacterTextSplitter(\n",
    "    chunk_size=1000, \n",
    "    chunk_overlap=200,\n",
    "    length_function=len,)\n",
    "splits = text_splitter.split_documents(docs)\n",
    "\n",
    "vectorstore = Chroma.from_documents(documents=splits, embedding=OpenAIEmbeddings(), persist_directory=\"./chroma_db\")\n",
    "'''"
   ]
  },
  {
   "cell_type": "markdown",
   "id": "d46105ba",
   "metadata": {},
   "source": [
    "## 3. Retrieve"
   ]
  },
  {
   "cell_type": "code",
   "execution_count": 6,
   "id": "e9abd0f7",
   "metadata": {},
   "outputs": [],
   "source": [
    "vectorstore = Chroma(embedding_function=OpenAIEmbeddings(), persist_directory=\"./chroma_db\")"
   ]
  },
  {
   "cell_type": "code",
   "execution_count": 7,
   "id": "9744b63c",
   "metadata": {},
   "outputs": [],
   "source": [
    "# Retrieve and RAG chain\n",
    "\n",
    "# Use MMR (Maximum Marginal Relevance) to find a set of documents that are both similar to the input query and diverse among themselves\n",
    "# Increase number of documents to get, and increase diversity (lambda mult 0.5 being default, 0 being the most diverse, 1 being the least)\n",
    "retriever = vectorstore.as_retriever(search_type=\"mmr\", search_kwargs={'k': 6, 'lambda_mult': 0.25}) \n",
    "\n",
    "prompt = hub.pull(\"rlm/rag-prompt\")\n",
    "llm = ChatOpenAI(model_name=\"gpt-3.5-turbo-0125\", temperature=0) # context window size 16k for GPT 3.5 Turbo\n",
    "\n",
    "def format_docs_with_sources(docs):\n",
    "    formatted_docs = \"\\n\\n\".join(doc.page_content for doc in docs)\n",
    "    sources_pages = \"\\n\".join(f\"{doc.metadata['source']} (Page {doc.metadata['page'] + 1})\" for doc in docs)\n",
    "    # Added 1 to the page number assuming 'page' starts at 0 and we want to present it in a user-friendly way\n",
    "\n",
    "    return f\"Documents:\\n{formatted_docs}\\n\\nSources and Pages:\\n{sources_pages}\"\n",
    "\n",
    "rag_chain_from_docs = (\n",
    "    RunnablePassthrough.assign(context=(lambda x: format_docs_with_sources(x[\"context\"])))\n",
    "    | prompt\n",
    "    | llm\n",
    "    | StrOutputParser()\n",
    ")\n",
    "\n",
    "rag_chain_with_source = RunnableParallel(\n",
    "    {\"context\": retriever, \"question\": RunnablePassthrough()}\n",
    ").assign(answer=rag_chain_from_docs)"
   ]
  },
  {
   "cell_type": "markdown",
   "id": "9243e34a",
   "metadata": {},
   "source": [
    "## 4. Generate"
   ]
  },
  {
   "cell_type": "code",
   "execution_count": 8,
   "id": "1ceedb0b",
   "metadata": {},
   "outputs": [],
   "source": [
    "def generate_output():\n",
    "    usr_input = input(\"What is your question on ASOP?: \")\n",
    "\n",
    "    output = rag_chain_with_source.invoke(usr_input)\n",
    "\n",
    "    markdown_output = \"### Question\\n{}\\n\\n### Answer\\n{}\\n\\n### Context\\n\".format(output['question'], output['answer'])\n",
    "\n",
    "    last_page_content = None  # Variable to store the last page content\n",
    "    i = 1 # Source indicator\n",
    "\n",
    "    for doc in output['context']:\n",
    "        current_page_content = doc.page_content.replace('\\n', '  \\n')  # Get the current page content\n",
    "        # Check if the current content is different from the last one\n",
    "        if current_page_content != last_page_content:\n",
    "            markdown_output += \"- **Source {}**: {}, page {}:\\n\\n{}\\n\".format(i, doc.metadata['source'], doc.metadata['page'], current_page_content)\n",
    "            i = i + 1\n",
    "        last_page_content = current_page_content  # Update the last page content\n",
    "\n",
    "    display(Markdown(markdown_output))"
   ]
  },
  {
   "cell_type": "markdown",
   "id": "9d54daa6",
   "metadata": {},
   "source": [
    "### Example questions\n",
    "- explain ASOP No. 14\n",
    "- explain ASOP No. 22\n",
    "- How are expenses relfected in cash flow testing?\n",
    "- How are expenses relfected in cash flow testing based on ASOP No. 22?\n",
    "- What is catastrophe risk?\n",
    "- When do I update assumptions?\n",
    "- What should I do when I do not have credible data to develop non-economic assumptions?\n",
    "- How do I set economic assumptions for cash flow testing?"
   ]
  },
  {
   "cell_type": "code",
   "execution_count": 11,
   "id": "36183436",
   "metadata": {},
   "outputs": [
    {
     "name": "stdin",
     "output_type": "stream",
     "text": [
      "What is your question on ASOP?:  How are expenses relfected in cash flow testing?\n"
     ]
    },
    {
     "data": {
      "text/markdown": [
       "### Question\n",
       "How are expenses relfected in cash flow testing?\n",
       "\n",
       "### Answer\n",
       "Expenses are reflected in cash flow testing by considering all known sources of expenses, such as operating expenses, capital expenditures, debt interest and principal payments, and refunds of advance fees. The cash flow projection should show the cash and investment balances at the beginning and end of each projection year. The actuary should consider guidance from ASOP No. 7 when choosing assumptions for cash flow projections.\n",
       "\n",
       "### Context\n",
       "- **Source 1**: ASOP/asop007_128.pdf, page 10:\n",
       "\n",
       "determine what types of deviations from exp ected experience should be taken into account,   \n",
       "if any, given the purpose of the analysis.    \n",
       " 3.2.1 Reasons for Cash Flow Testing  \n",
       "—The actuary should consider cash flow testing   \n",
       "when variations in the underlying risks are likely to have a material impact on the   \n",
       "expected    \n",
       " cash flows in certain products, certain lines of business, or on the company.   \n",
       "Situations that might indicate a need for cash flow testing include the following:   \n",
       "   a. where there are material asset risks (for example, below investment grade   \n",
       "bonds, assets with payment timing risks such as CMOs or mortgage-backed   \n",
       "securities, mortgages concentrated in cer tain regions of th e country, and large   \n",
       "illiquid assets such as real estate);   \n",
       "   b. where there are liabilities that have cash flows far out into the future (for   \n",
       "example, structured settlement annuitie s with a significant reinvestment    \n",
       "rate-of-return risk);\n",
       "- **Source 2**: ASOP/asop007_128.pdf, page 16:\n",
       "\n",
       "4.3 Documentation  \n",
       "—The degree of documentation of the act uary’s cash flow analysis will vary   \n",
       "with the complexity and purpose of the an alysis. The documentation should be more   \n",
       "complete for more significant assignments such as regulatory cash flow testing than for other   \n",
       "assignments such as periodic income projections.\n",
       "- **Source 3**: ASOP/asop003_124.pdf, page 13:\n",
       "\n",
       "ASOP No. 3 ⎯September 2007    \n",
       " 9   \n",
       "The actuary should reflect revenues from all known sources (such as advance fees,   \n",
       "periodic fees, additional fees, payments from non-residents, reimbursements from Medicare or other third party payer, and investment income ). The actuary should reflect   \n",
       "expenses from all known sources (such as ope rating expenses, capital  expenditures, debt   \n",
       "interest and principal payments, any cost of using an offsite h ealth facility, and refunds of   \n",
       "advance fees).    The cash flow projection should show the cash and investment balances at the beginning   \n",
       "and end of each projection year.  The actuary should consider th e guidance in ASOP No. 7, Analysis of Life, Health, or   \n",
       "Property/Casualty Insurer Cash Flows , when choosing assumptions for cash flow   \n",
       "projections.   \n",
       " 3.8 Selection of Actuarial Assumptions  \n",
       "—The actuary should cons ider the guidance below   \n",
       "when selecting assumptions for performing act uarial analyses covered by this ASOP.\n",
       "- **Source 4**: ASOP/asop028_200.pdf, page 20:\n",
       "\n",
       "Performing Cash Flow Testing for Insurers , in October 1988. ASOP No. 7 was revised in July   \n",
       "1991 and again in June 2002.     \n",
       "   \n",
       "In July 1990, the ASB adopted ASOP No. 14, When to Do Cash Flow Testing for Life and   \n",
       "Health Insurance Companies , to provide guidance in determining whether to do cash flow   \n",
       "testing in forming a professional opinion or recommendation. ASOP No. 14 was repealed in   \n",
       "September 2001 after the ASB determined that relevant portions were incorporated in the 2001   \n",
       "revisions of ASOP No. 7 and ASOP No. 22, Statements of Opinion Based on Asset Adequacy   \n",
       "Analysis by Actuaries for Life or Health Insurers.\n",
       "- **Source 5**: ASOP/asop007_128.pdf, page 5:\n",
       "\n",
       "The exposure draft of this revised standard was issued in September 2000 with a comment deadline of March 31, 2001. The Cash Flow Testing Task Force carefully considered the twenty-one comment letters received. For a summary of the substantive issues contained in these comment letters, please see appendix 2.   The most significant changes from the exposure draft were as follows:   1. In section 3.10.1, Scenarios, and 3.10.3, Internal Consistency, a few changes were made\n",
       "- **Source 6**: ASOP/asop007_128.pdf, page 22:\n",
       "\n",
       "Comment   \n",
       "  Response A few commentators questioned the use of the phrases  “long duration” and “short-term,” and noted that   \n",
       "these can have meaning in a GAAP context.   The task force agreed that the use of those phrases could cause confusion in that regard and changed the   \n",
       "wording.   \n",
       "Section 3.2.2, Cash Flow Testing is Not Always Necessary   \n",
       "Comment   Response One commentator asked that the phrase “policy term” be included as part of what the actuary should   \n",
       "consider as to whether a block is relatively insensitive to changes in economic conditions.    \n",
       " The task force agreed and added words to accomplish this.    \n",
       "Section 3.2.3, Use of Analyses or Data Predating the Analysis Date   \n",
       "Comment   \n",
       " Response One commentator believed that the actuary should cons ider future material events in the analysis.    \n",
       " The task force disagreed, believing such a thi ng is beyond the scope of cash flow analysis.    \n",
       "Section 3.5.1, Policy Cash Flow Characteristics   \n",
       "Comment\n"
      ],
      "text/plain": [
       "<IPython.core.display.Markdown object>"
      ]
     },
     "metadata": {},
     "output_type": "display_data"
    }
   ],
   "source": [
    "generate_output()"
   ]
  },
  {
   "cell_type": "markdown",
   "id": "d4e5db41",
   "metadata": {},
   "source": [
    "## 5. Links\n",
    "- https://www.actuarialstandardsboard.org/standards-of-practice/\n",
    "- https://bard.google.com/chat\n",
    "- https://chat.openai.com/\n",
    "- GPT4All\n",
    "- ollama run solar:10.7b-instruct-v1-q5_K_M"
   ]
  },
  {
   "cell_type": "markdown",
   "id": "b5938771",
   "metadata": {},
   "source": [
    "## 6. References\n",
    "- https://python.langchain.com/docs/use_cases/question_answering/quickstart\n",
    "- https://python.langchain.com/docs/use_cases/question_answering/sources\n",
    "- https://chat.langchain.com/"
   ]
  }
 ],
 "metadata": {
  "kernelspec": {
   "display_name": "Python 3 (ipykernel)",
   "language": "python",
   "name": "python3"
  },
  "language_info": {
   "codemirror_mode": {
    "name": "ipython",
    "version": 3
   },
   "file_extension": ".py",
   "mimetype": "text/x-python",
   "name": "python",
   "nbconvert_exporter": "python",
   "pygments_lexer": "ipython3",
   "version": "3.11.5"
  }
 },
 "nbformat": 4,
 "nbformat_minor": 5
}
